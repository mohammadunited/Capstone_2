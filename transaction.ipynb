{
 "cells": [
  {
   "cell_type": "code",
   "execution_count": 23,
   "id": "b628f4c2-6230-42a7-82b9-785c7a53e6a5",
   "metadata": {},
   "outputs": [
    {
     "data": {
      "text/html": [
       "<div>\n",
       "<style scoped>\n",
       "    .dataframe tbody tr th:only-of-type {\n",
       "        vertical-align: middle;\n",
       "    }\n",
       "\n",
       "    .dataframe tbody tr th {\n",
       "        vertical-align: top;\n",
       "    }\n",
       "\n",
       "    .dataframe thead th {\n",
       "        text-align: right;\n",
       "    }\n",
       "</style>\n",
       "<table border=\"1\" class=\"dataframe\">\n",
       "  <thead>\n",
       "    <tr style=\"text-align: right;\">\n",
       "      <th></th>\n",
       "      <th>TransactionID</th>\n",
       "      <th>CustID</th>\n",
       "      <th>Date</th>\n",
       "      <th>Employee</th>\n",
       "      <th>ProductID</th>\n",
       "      <th>ProductName</th>\n",
       "      <th>VendorID</th>\n",
       "      <th>ProductVendor</th>\n",
       "      <th>UnitPrice</th>\n",
       "      <th>Quantity</th>\n",
       "      <th>Subtotal</th>\n",
       "      <th>Tax(8%)</th>\n",
       "      <th>OrderTotal</th>\n",
       "    </tr>\n",
       "  </thead>\n",
       "  <tbody>\n",
       "    <tr>\n",
       "      <th>0</th>\n",
       "      <td>10258</td>\n",
       "      <td>1</td>\n",
       "      <td>7/17/2023</td>\n",
       "      <td>Nancy Davolio</td>\n",
       "      <td>32</td>\n",
       "      <td>Mascarpone Fabioli</td>\n",
       "      <td>14</td>\n",
       "      <td>Formaggi Fortini s.r.l.</td>\n",
       "      <td>25.6</td>\n",
       "      <td>6</td>\n",
       "      <td>153.6</td>\n",
       "      <td>12.29</td>\n",
       "      <td>165.89</td>\n",
       "    </tr>\n",
       "    <tr>\n",
       "      <th>1</th>\n",
       "      <td>10275</td>\n",
       "      <td>2</td>\n",
       "      <td>8/7/2023</td>\n",
       "      <td>Nancy Davolio</td>\n",
       "      <td>24</td>\n",
       "      <td>Guaran Fantstica</td>\n",
       "      <td>10</td>\n",
       "      <td>Refrescos Americanas LTDA</td>\n",
       "      <td>3.6</td>\n",
       "      <td>12</td>\n",
       "      <td>43.2</td>\n",
       "      <td>3.46</td>\n",
       "      <td>46.66</td>\n",
       "    </tr>\n",
       "    <tr>\n",
       "      <th>2</th>\n",
       "      <td>10275</td>\n",
       "      <td>2</td>\n",
       "      <td>8/7/2023</td>\n",
       "      <td>Nancy Davolio</td>\n",
       "      <td>59</td>\n",
       "      <td>Raclette Courdavault</td>\n",
       "      <td>28</td>\n",
       "      <td>Gai pturage</td>\n",
       "      <td>44.0</td>\n",
       "      <td>6</td>\n",
       "      <td>264.0</td>\n",
       "      <td>21.12</td>\n",
       "      <td>285.12</td>\n",
       "    </tr>\n",
       "    <tr>\n",
       "      <th>3</th>\n",
       "      <td>10292</td>\n",
       "      <td>3</td>\n",
       "      <td>8/28/2023</td>\n",
       "      <td>Nancy Davolio</td>\n",
       "      <td>20</td>\n",
       "      <td>Sir Rodney's Marmalade</td>\n",
       "      <td>8</td>\n",
       "      <td>Specialty Biscuits, Ltd.</td>\n",
       "      <td>64.8</td>\n",
       "      <td>20</td>\n",
       "      <td>1296.0</td>\n",
       "      <td>103.68</td>\n",
       "      <td>1399.68</td>\n",
       "    </tr>\n",
       "    <tr>\n",
       "      <th>4</th>\n",
       "      <td>10293</td>\n",
       "      <td>4</td>\n",
       "      <td>8/29/2023</td>\n",
       "      <td>Nancy Davolio</td>\n",
       "      <td>18</td>\n",
       "      <td>Carnarvon Tigers</td>\n",
       "      <td>7</td>\n",
       "      <td>Pavlova, Ltd.</td>\n",
       "      <td>50.0</td>\n",
       "      <td>12</td>\n",
       "      <td>600.0</td>\n",
       "      <td>48.00</td>\n",
       "      <td>648.00</td>\n",
       "    </tr>\n",
       "    <tr>\n",
       "      <th>5</th>\n",
       "      <td>10293</td>\n",
       "      <td>4</td>\n",
       "      <td>8/29/2023</td>\n",
       "      <td>Nancy Davolio</td>\n",
       "      <td>24</td>\n",
       "      <td>Guaran Fantstica</td>\n",
       "      <td>10</td>\n",
       "      <td>Refrescos Americanas LTDA</td>\n",
       "      <td>3.6</td>\n",
       "      <td>10</td>\n",
       "      <td>36.0</td>\n",
       "      <td>2.88</td>\n",
       "      <td>38.88</td>\n",
       "    </tr>\n",
       "    <tr>\n",
       "      <th>6</th>\n",
       "      <td>10293</td>\n",
       "      <td>4</td>\n",
       "      <td>8/29/2023</td>\n",
       "      <td>Nancy Davolio</td>\n",
       "      <td>63</td>\n",
       "      <td>Vegie-spread</td>\n",
       "      <td>7</td>\n",
       "      <td>Pavlova, Ltd.</td>\n",
       "      <td>35.1</td>\n",
       "      <td>5</td>\n",
       "      <td>175.5</td>\n",
       "      <td>14.04</td>\n",
       "      <td>189.54</td>\n",
       "    </tr>\n",
       "    <tr>\n",
       "      <th>7</th>\n",
       "      <td>10293</td>\n",
       "      <td>4</td>\n",
       "      <td>8/29/2023</td>\n",
       "      <td>Nancy Davolio</td>\n",
       "      <td>75</td>\n",
       "      <td>Rhnbru Klosterbier</td>\n",
       "      <td>12</td>\n",
       "      <td>Plutzer Lebensmittelgromrkte AG</td>\n",
       "      <td>6.2</td>\n",
       "      <td>6</td>\n",
       "      <td>37.2</td>\n",
       "      <td>2.98</td>\n",
       "      <td>40.18</td>\n",
       "    </tr>\n",
       "    <tr>\n",
       "      <th>8</th>\n",
       "      <td>10304</td>\n",
       "      <td>4</td>\n",
       "      <td>9/12/2023</td>\n",
       "      <td>Nancy Davolio</td>\n",
       "      <td>59</td>\n",
       "      <td>Raclette Courdavault</td>\n",
       "      <td>28</td>\n",
       "      <td>Gai pturage</td>\n",
       "      <td>44.0</td>\n",
       "      <td>10</td>\n",
       "      <td>440.0</td>\n",
       "      <td>35.20</td>\n",
       "      <td>475.20</td>\n",
       "    </tr>\n",
       "    <tr>\n",
       "      <th>9</th>\n",
       "      <td>10304</td>\n",
       "      <td>4</td>\n",
       "      <td>9/12/2023</td>\n",
       "      <td>Nancy Davolio</td>\n",
       "      <td>71</td>\n",
       "      <td>Flotemysost</td>\n",
       "      <td>15</td>\n",
       "      <td>Norske Meierier</td>\n",
       "      <td>17.2</td>\n",
       "      <td>2</td>\n",
       "      <td>34.4</td>\n",
       "      <td>2.75</td>\n",
       "      <td>37.15</td>\n",
       "    </tr>\n",
       "  </tbody>\n",
       "</table>\n",
       "</div>"
      ],
      "text/plain": [
       "   TransactionID  CustID       Date       Employee  ProductID  \\\n",
       "0          10258       1  7/17/2023  Nancy Davolio         32   \n",
       "1          10275       2   8/7/2023  Nancy Davolio         24   \n",
       "2          10275       2   8/7/2023  Nancy Davolio         59   \n",
       "3          10292       3  8/28/2023  Nancy Davolio         20   \n",
       "4          10293       4  8/29/2023  Nancy Davolio         18   \n",
       "5          10293       4  8/29/2023  Nancy Davolio         24   \n",
       "6          10293       4  8/29/2023  Nancy Davolio         63   \n",
       "7          10293       4  8/29/2023  Nancy Davolio         75   \n",
       "8          10304       4  9/12/2023  Nancy Davolio         59   \n",
       "9          10304       4  9/12/2023  Nancy Davolio         71   \n",
       "\n",
       "              ProductName  VendorID                    ProductVendor  \\\n",
       "0      Mascarpone Fabioli        14          Formaggi Fortini s.r.l.   \n",
       "1        Guaran Fantstica        10        Refrescos Americanas LTDA   \n",
       "2    Raclette Courdavault        28                      Gai pturage   \n",
       "3  Sir Rodney's Marmalade         8         Specialty Biscuits, Ltd.   \n",
       "4        Carnarvon Tigers         7                    Pavlova, Ltd.   \n",
       "5        Guaran Fantstica        10        Refrescos Americanas LTDA   \n",
       "6            Vegie-spread         7                    Pavlova, Ltd.   \n",
       "7      Rhnbru Klosterbier        12  Plutzer Lebensmittelgromrkte AG   \n",
       "8    Raclette Courdavault        28                      Gai pturage   \n",
       "9             Flotemysost        15                  Norske Meierier   \n",
       "\n",
       "   UnitPrice  Quantity  Subtotal  Tax(8%)  OrderTotal  \n",
       "0       25.6         6     153.6    12.29      165.89  \n",
       "1        3.6        12      43.2     3.46       46.66  \n",
       "2       44.0         6     264.0    21.12      285.12  \n",
       "3       64.8        20    1296.0   103.68     1399.68  \n",
       "4       50.0        12     600.0    48.00      648.00  \n",
       "5        3.6        10      36.0     2.88       38.88  \n",
       "6       35.1         5     175.5    14.04      189.54  \n",
       "7        6.2         6      37.2     2.98       40.18  \n",
       "8       44.0        10     440.0    35.20      475.20  \n",
       "9       17.2         2      34.4     2.75       37.15  "
      ]
     },
     "execution_count": 23,
     "metadata": {},
     "output_type": "execute_result"
    }
   ],
   "source": [
    "import pandas as pd\n",
    "df = pd.read_csv(\"transaction_data.csv\")\n",
    "df.head(10)"
   ]
  },
  {
   "cell_type": "code",
   "execution_count": 45,
   "id": "066a52a9-3d82-460b-9758-ef19ba9ca4eb",
   "metadata": {},
   "outputs": [
    {
     "data": {
      "text/plain": [
       "Employee\n",
       "Andrew Fuller        53549.87\n",
       "Anne Dodsworth       27232.47\n",
       "Janet Leverling      61935.82\n",
       "Laura Callahan       61575.87\n",
       "Margaret Peacock    102093.97\n",
       "Michael Suyama       37691.47\n",
       "Nancy Davolio        75095.44\n",
       "Robert King          31964.33\n",
       "Steven Buchanan      23087.99\n",
       "Name: OrderTotal, dtype: float64"
      ]
     },
     "execution_count": 45,
     "metadata": {},
     "output_type": "execute_result"
    }
   ],
   "source": [
    "#trying to see total sales of the employees\n",
    "df_selected = df[['Employee','OrderTotal']].groupby('Employee')['OrderTotal'].sum()\n",
    "df_selected"
   ]
  },
  {
   "cell_type": "code",
   "execution_count": 59,
   "id": "3d72aefa-a059-46a6-89c1-ad3cdb75a862",
   "metadata": {},
   "outputs": [
    {
     "data": {
      "text/plain": [
       "Employee\n",
       "Andrew Fuller       145\n",
       "Anne Dodsworth       62\n",
       "Janet Leverling     196\n",
       "Laura Callahan      172\n",
       "Margaret Peacock    265\n",
       "Michael Suyama      118\n",
       "Nancy Davolio       221\n",
       "Robert King         101\n",
       "Steven Buchanan      73\n",
       "Name: ProductName, dtype: int64"
      ]
     },
     "execution_count": 59,
     "metadata": {},
     "output_type": "execute_result"
    }
   ],
   "source": [
    "#trying to see what employee sold the most products\n",
    "df_selected = df[['ProductName','Employee']].groupby('Employee')['ProductName'].count()\n",
    "df_selected\n"
   ]
  },
  {
   "cell_type": "code",
   "execution_count": 76,
   "id": "c04ecf9d-39b7-4ff2-b2ce-7f3f38deb9ed",
   "metadata": {},
   "outputs": [
    {
     "ename": "TypeError",
     "evalue": "'SeriesGroupBy' object is not callable",
     "output_type": "error",
     "traceback": [
      "\u001b[1;31m---------------------------------------------------------------------------\u001b[0m",
      "\u001b[1;31mTypeError\u001b[0m                                 Traceback (most recent call last)",
      "Cell \u001b[1;32mIn[76], line 1\u001b[0m\n\u001b[1;32m----> 1\u001b[0m \u001b[43mdf\u001b[49m\u001b[43m[\u001b[49m\u001b[43m[\u001b[49m\u001b[38;5;124;43m'\u001b[39;49m\u001b[38;5;124;43mProductName\u001b[39;49m\u001b[38;5;124;43m'\u001b[39;49m\u001b[43m,\u001b[49m\u001b[38;5;124;43m'\u001b[39;49m\u001b[38;5;124;43mEmployee\u001b[39;49m\u001b[38;5;124;43m'\u001b[39;49m\u001b[43m,\u001b[49m\u001b[38;5;124;43m'\u001b[39;49m\u001b[38;5;124;43mQuantity\u001b[39;49m\u001b[38;5;124;43m'\u001b[39;49m\u001b[43m]\u001b[49m\u001b[43m]\u001b[49m\u001b[38;5;241;43m.\u001b[39;49m\u001b[43mgroupby\u001b[49m\u001b[43m(\u001b[49m\u001b[38;5;124;43m'\u001b[39;49m\u001b[38;5;124;43mEmployee\u001b[39;49m\u001b[38;5;124;43m'\u001b[39;49m\u001b[43m)\u001b[49m\u001b[43m[\u001b[49m\u001b[38;5;124;43m'\u001b[39;49m\u001b[38;5;124;43mProductName\u001b[39;49m\u001b[38;5;124;43m'\u001b[39;49m\u001b[43m]\u001b[49m\u001b[43m(\u001b[49m\u001b[38;5;124;43m'\u001b[39;49m\u001b[38;5;124;43mQuantity\u001b[39;49m\u001b[38;5;124;43m'\u001b[39;49m\u001b[43m)\u001b[49m\u001b[38;5;241m.\u001b[39mmax()\n",
      "\u001b[1;31mTypeError\u001b[0m: 'SeriesGroupBy' object is not callable"
     ]
    }
   ],
   "source": [
    "#df[['ProductName','Employee','Quantity']].groupby('Employee')['ProductName']('Quantity').max()\n"
   ]
  },
  {
   "cell_type": "code",
   "execution_count": 84,
   "id": "3a9819f2-a44e-4b62-9e01-075ad4d15214",
   "metadata": {},
   "outputs": [
    {
     "data": {
      "text/plain": [
       "np.float64(12.631929046563194)"
      ]
     },
     "execution_count": 84,
     "metadata": {},
     "output_type": "execute_result"
    }
   ],
   "source": [
    "#checking whats the average quantity sold.\n",
    "df['Quantity'].mean()"
   ]
  },
  {
   "cell_type": "code",
   "execution_count": 85,
   "id": "52e34f37-a14e-49d0-a95f-07e83032a09c",
   "metadata": {},
   "outputs": [],
   "source": [
    "import matplotlib.pyplot as plt"
   ]
  },
  {
   "cell_type": "code",
   "execution_count": 86,
   "id": "393ace7f-e8f6-4b8b-a716-f9f3b6ed9bc5",
   "metadata": {},
   "outputs": [],
   "source": [
    "plt.style.use('ggplot')"
   ]
  },
  {
   "cell_type": "code",
   "execution_count": 87,
   "id": "5abd8e5c-e229-40eb-8b49-5383058d1104",
   "metadata": {},
   "outputs": [],
   "source": [
    "df = pd.read_csv(\"transaction_data.csv\")"
   ]
  },
  {
   "cell_type": "code",
   "execution_count": 90,
   "id": "836e3a88-b6ab-4d96-98ab-8c4221302bcd",
   "metadata": {},
   "outputs": [
    {
     "ename": "IndentationError",
     "evalue": "unexpected indent (1896189370.py, line 2)",
     "output_type": "error",
     "traceback": [
      "\u001b[1;36m  Cell \u001b[1;32mIn[90], line 2\u001b[1;36m\u001b[0m\n\u001b[1;33m    .sort_values(ascending=false)\u001b[0m\n\u001b[1;37m    ^\u001b[0m\n\u001b[1;31mIndentationError\u001b[0m\u001b[1;31m:\u001b[0m unexpected indent\n"
     ]
    }
   ],
   "source": []
  },
  {
   "cell_type": "code",
   "execution_count": null,
   "id": "cba410fa-a5d1-4b64-86f1-5761db89fd6b",
   "metadata": {},
   "outputs": [],
   "source": []
  }
 ],
 "metadata": {
  "kernelspec": {
   "display_name": "Python 3 (ipykernel)",
   "language": "python",
   "name": "python3"
  },
  "language_info": {
   "codemirror_mode": {
    "name": "ipython",
    "version": 3
   },
   "file_extension": ".py",
   "mimetype": "text/x-python",
   "name": "python",
   "nbconvert_exporter": "python",
   "pygments_lexer": "ipython3",
   "version": "3.13.0rc1"
  }
 },
 "nbformat": 4,
 "nbformat_minor": 5
}
